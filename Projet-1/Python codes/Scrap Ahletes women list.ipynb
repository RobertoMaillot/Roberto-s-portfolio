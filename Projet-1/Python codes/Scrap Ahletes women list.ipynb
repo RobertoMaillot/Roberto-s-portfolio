{
 "cells": [
  {
   "cell_type": "code",
   "execution_count": 1,
   "id": "563d86bd-6eaf-4d0a-b314-84a62b543e87",
   "metadata": {},
   "outputs": [],
   "source": [
    "# https://worldathletics.org/world-rankings/marathon/women?page=1\n",
    "# Page 1 à 17"
   ]
  },
  {
   "cell_type": "code",
   "execution_count": 2,
   "id": "1c5bcfee-2839-4c52-b65a-9b33cb8a26ba",
   "metadata": {
    "tags": []
   },
   "outputs": [],
   "source": [
    "import requests\n",
    "import json\n",
    "import pandas as pd\n",
    "from bs4 import BeautifulSoup as bs"
   ]
  },
  {
   "cell_type": "code",
   "execution_count": 3,
   "id": "31891100-d60f-4849-ab38-595fa3912f36",
   "metadata": {},
   "outputs": [],
   "source": [
    "names = []\n",
    "Competitors = []\n",
    "DOBS = []\n",
    "Nats = []\n",
    "scores = []\n",
    "urls = []\n",
    "EventLists = []"
   ]
  },
  {
   "cell_type": "code",
   "execution_count": 4,
   "id": "d5d86358-1299-4354-970c-4e2dfbc7b193",
   "metadata": {
    "tags": []
   },
   "outputs": [],
   "source": [
    "response = requests.get('https://worldathletics.org/world-rankings/marathon/women?page=17')"
   ]
  },
  {
   "cell_type": "code",
   "execution_count": 5,
   "id": "b985a03b-5624-4d98-9bf4-50b0a72ca544",
   "metadata": {
    "tags": []
   },
   "outputs": [],
   "source": [
    "page_contents = response.text"
   ]
  },
  {
   "cell_type": "code",
   "execution_count": 6,
   "id": "508b7eca-5f7e-40ca-ad71-99d8fe80bd13",
   "metadata": {
    "tags": []
   },
   "outputs": [],
   "source": [
    "soup = bs(response.text, 'lxml')"
   ]
  },
  {
   "cell_type": "code",
   "execution_count": 7,
   "id": "b7e8d3a6-4571-4def-96ef-68cb6cd5e5a0",
   "metadata": {
    "tags": []
   },
   "outputs": [],
   "source": [
    "import re\n",
    "\n",
    "def Rank(soup): # Gets the edition of the competition\n",
    "    td_tags = soup.find_all('td', {'data-th' : \"Rank\"})\n",
    "    for tag in td_tags:\n",
    "        names.append(tag.text.strip())\n",
    "    return names\n",
    "\n",
    "def Competitor(soup): # Gets the date the competition is held\n",
    "    Competitor = soup.find_all('td', {'data-th' : \"Competitor\"})\n",
    "    for tags in Competitor:\n",
    "        Competitors.append(tags.text.strip())\n",
    "    return Competitors\n",
    "\n",
    "def DOB(soup): # Gets the date the competition is held\n",
    "    DOB = soup.find_all('td', {'data-th' : \"DOB\"})\n",
    "    for tags in DOB:\n",
    "        DOBS.append(tags.text.strip())\n",
    "    return DOBS\n",
    "\n",
    "def Nat(soup): # Gets the date the competition is held\n",
    "    Nat = soup.find_all('td', {'data-th' : \"Nat\"})\n",
    "    for tags in Nat:\n",
    "        Nats.append(tags.text.strip())\n",
    "    return Nats\n",
    "\n",
    "def score(soup): # Gets the date the competition is held\n",
    "    score = soup.find_all('td', {'data-th' : \"score\"})\n",
    "    for tags in score:\n",
    "        scores.append(tags.text.strip())\n",
    "    return scores\n",
    "\n",
    "def athletes_url(soup): # Gets the links to the results\n",
    "    tbody = soup.find('tbody')\n",
    "    tags = tbody.find_all('tr')\n",
    "        ### the`re.compile gets href with the given string`\n",
    "    base_url = 'https://www.worldathletics.org'\n",
    "    for tag in tags:\n",
    "        urls.append(base_url + tag.attrs.get('data-athlete-url', 'Not found'))\n",
    "    return urls\n",
    "\n",
    "def EventList(soup): # Gets the date the competition is held\n",
    "    EventList = soup.find_all('td', {'data-th' : \"EventList\"})\n",
    "    for tags in EventList:\n",
    "        EventLists.append(tags.text.strip())\n",
    "    return EventLists\n",
    "\n",
    "athletics_dict = {\n",
    "'Rank':Rank(soup),\n",
    "'Competitor':Competitor(soup),\n",
    "'DOB':DOB(soup),\n",
    "'Nat':Nat(soup),\n",
    "'Score':score(soup),\n",
    "'EventList':EventList(soup),\n",
    "'athletes_url':athletes_url(soup)\n",
    "}"
   ]
  },
  {
   "cell_type": "code",
   "execution_count": 8,
   "id": "f764ff80-bda5-408e-b376-1b7eb9f3f706",
   "metadata": {
    "tags": []
   },
   "outputs": [],
   "source": [
    "#athletics_dict"
   ]
  },
  {
   "cell_type": "code",
   "execution_count": 9,
   "id": "18a59104-5a8a-4530-913e-3387c56806ad",
   "metadata": {
    "tags": []
   },
   "outputs": [],
   "source": [
    "df = pd.DataFrame(athletics_dict)"
   ]
  },
  {
   "cell_type": "code",
   "execution_count": 10,
   "id": "1240dccf-8bf6-43ff-9665-d5f7f80f1901",
   "metadata": {},
   "outputs": [
    {
     "data": {
      "text/html": [
       "<div>\n",
       "<style scoped>\n",
       "    .dataframe tbody tr th:only-of-type {\n",
       "        vertical-align: middle;\n",
       "    }\n",
       "\n",
       "    .dataframe tbody tr th {\n",
       "        vertical-align: top;\n",
       "    }\n",
       "\n",
       "    .dataframe thead th {\n",
       "        text-align: right;\n",
       "    }\n",
       "</style>\n",
       "<table border=\"1\" class=\"dataframe\">\n",
       "  <thead>\n",
       "    <tr style=\"text-align: right;\">\n",
       "      <th></th>\n",
       "      <th>Rank</th>\n",
       "      <th>Competitor</th>\n",
       "      <th>DOB</th>\n",
       "      <th>Nat</th>\n",
       "      <th>Score</th>\n",
       "      <th>EventList</th>\n",
       "      <th>athletes_url</th>\n",
       "    </tr>\n",
       "  </thead>\n",
       "  <tbody>\n",
       "    <tr>\n",
       "      <th>0</th>\n",
       "      <td>1601</td>\n",
       "      <td>Marianela BALINOTTI</td>\n",
       "      <td>13 OCT 1990</td>\n",
       "      <td>ARG</td>\n",
       "      <td>907</td>\n",
       "      <td>Marathon</td>\n",
       "      <td>https://www.worldathletics.org/athletes/argent...</td>\n",
       "    </tr>\n",
       "    <tr>\n",
       "      <th>1</th>\n",
       "      <td>1602</td>\n",
       "      <td>Marie KLOSTER</td>\n",
       "      <td>30 JUN 1981</td>\n",
       "      <td>NOR</td>\n",
       "      <td>907</td>\n",
       "      <td>Marathon [Half Marathon]</td>\n",
       "      <td>https://www.worldathletics.org/athletes/norway...</td>\n",
       "    </tr>\n",
       "    <tr>\n",
       "      <th>2</th>\n",
       "      <td>1603</td>\n",
       "      <td>Mayumi YOSHIKAWA</td>\n",
       "      <td>04 SEP 1977</td>\n",
       "      <td>JPN</td>\n",
       "      <td>907</td>\n",
       "      <td>Marathon</td>\n",
       "      <td>https://www.worldathletics.org/athletes/japan/...</td>\n",
       "    </tr>\n",
       "    <tr>\n",
       "      <th>3</th>\n",
       "      <td>1604</td>\n",
       "      <td>Mònica COMAS</td>\n",
       "      <td></td>\n",
       "      <td>ESP</td>\n",
       "      <td>906</td>\n",
       "      <td>Marathon [Half Marathon]</td>\n",
       "      <td>https://www.worldathletics.org/athletes/spain/...</td>\n",
       "    </tr>\n",
       "    <tr>\n",
       "      <th>4</th>\n",
       "      <td>1605</td>\n",
       "      <td>Marie MARTINEZ</td>\n",
       "      <td>24 OCT 1983</td>\n",
       "      <td>FRA</td>\n",
       "      <td>906</td>\n",
       "      <td>Marathon [Half Marathon]</td>\n",
       "      <td>https://www.worldathletics.org/athletes/france...</td>\n",
       "    </tr>\n",
       "    <tr>\n",
       "      <th>...</th>\n",
       "      <td>...</td>\n",
       "      <td>...</td>\n",
       "      <td>...</td>\n",
       "      <td>...</td>\n",
       "      <td>...</td>\n",
       "      <td>...</td>\n",
       "      <td>...</td>\n",
       "    </tr>\n",
       "    <tr>\n",
       "      <th>95</th>\n",
       "      <td>1696</td>\n",
       "      <td>Katie LAKIN</td>\n",
       "      <td></td>\n",
       "      <td>USA</td>\n",
       "      <td>898</td>\n",
       "      <td>Marathon [Half Marathon]</td>\n",
       "      <td>https://www.worldathletics.org/athletes/united...</td>\n",
       "    </tr>\n",
       "    <tr>\n",
       "      <th>96</th>\n",
       "      <td>1696</td>\n",
       "      <td>Kayo SHIMIZU</td>\n",
       "      <td>07 JUL 1981</td>\n",
       "      <td>JPN</td>\n",
       "      <td>898</td>\n",
       "      <td>Marathon</td>\n",
       "      <td>https://www.worldathletics.org/athletes/japan/...</td>\n",
       "    </tr>\n",
       "    <tr>\n",
       "      <th>97</th>\n",
       "      <td>1698</td>\n",
       "      <td>Megan TUMMINELLO</td>\n",
       "      <td>10 JUL 1989</td>\n",
       "      <td>AUS</td>\n",
       "      <td>897</td>\n",
       "      <td>Marathon [Half Marathon]</td>\n",
       "      <td>https://www.worldathletics.org/athletes/austra...</td>\n",
       "    </tr>\n",
       "    <tr>\n",
       "      <th>98</th>\n",
       "      <td>1699</td>\n",
       "      <td>Shannon KOHLITZ</td>\n",
       "      <td>1988</td>\n",
       "      <td>USA</td>\n",
       "      <td>897</td>\n",
       "      <td>Marathon</td>\n",
       "      <td>https://www.worldathletics.org/athletes/united...</td>\n",
       "    </tr>\n",
       "    <tr>\n",
       "      <th>99</th>\n",
       "      <td>1700</td>\n",
       "      <td>Christina BILGRAV</td>\n",
       "      <td></td>\n",
       "      <td>DEN</td>\n",
       "      <td>897</td>\n",
       "      <td>Marathon [Half Marathon]</td>\n",
       "      <td>https://www.worldathletics.org/athletes/denmar...</td>\n",
       "    </tr>\n",
       "  </tbody>\n",
       "</table>\n",
       "<p>100 rows × 7 columns</p>\n",
       "</div>"
      ],
      "text/plain": [
       "    Rank           Competitor          DOB  Nat Score  \\\n",
       "0   1601  Marianela BALINOTTI  13 OCT 1990  ARG   907   \n",
       "1   1602        Marie KLOSTER  30 JUN 1981  NOR   907   \n",
       "2   1603     Mayumi YOSHIKAWA  04 SEP 1977  JPN   907   \n",
       "3   1604         Mònica COMAS               ESP   906   \n",
       "4   1605       Marie MARTINEZ  24 OCT 1983  FRA   906   \n",
       "..   ...                  ...          ...  ...   ...   \n",
       "95  1696          Katie LAKIN               USA   898   \n",
       "96  1696         Kayo SHIMIZU  07 JUL 1981  JPN   898   \n",
       "97  1698     Megan TUMMINELLO  10 JUL 1989  AUS   897   \n",
       "98  1699      Shannon KOHLITZ         1988  USA   897   \n",
       "99  1700    Christina BILGRAV               DEN   897   \n",
       "\n",
       "                   EventList  \\\n",
       "0                   Marathon   \n",
       "1   Marathon [Half Marathon]   \n",
       "2                   Marathon   \n",
       "3   Marathon [Half Marathon]   \n",
       "4   Marathon [Half Marathon]   \n",
       "..                       ...   \n",
       "95  Marathon [Half Marathon]   \n",
       "96                  Marathon   \n",
       "97  Marathon [Half Marathon]   \n",
       "98                  Marathon   \n",
       "99  Marathon [Half Marathon]   \n",
       "\n",
       "                                         athletes_url  \n",
       "0   https://www.worldathletics.org/athletes/argent...  \n",
       "1   https://www.worldathletics.org/athletes/norway...  \n",
       "2   https://www.worldathletics.org/athletes/japan/...  \n",
       "3   https://www.worldathletics.org/athletes/spain/...  \n",
       "4   https://www.worldathletics.org/athletes/france...  \n",
       "..                                                ...  \n",
       "95  https://www.worldathletics.org/athletes/united...  \n",
       "96  https://www.worldathletics.org/athletes/japan/...  \n",
       "97  https://www.worldathletics.org/athletes/austra...  \n",
       "98  https://www.worldathletics.org/athletes/united...  \n",
       "99  https://www.worldathletics.org/athletes/denmar...  \n",
       "\n",
       "[100 rows x 7 columns]"
      ]
     },
     "execution_count": 10,
     "metadata": {},
     "output_type": "execute_result"
    }
   ],
   "source": [
    "df"
   ]
  },
  {
   "cell_type": "code",
   "execution_count": 11,
   "id": "5a00d13b-d2f3-43d1-9e5b-6e5b0e58a74f",
   "metadata": {
    "tags": []
   },
   "outputs": [],
   "source": [
    "#df.to_csv('info_athletes_women_2024.csv', index=False)"
   ]
  },
  {
   "cell_type": "code",
   "execution_count": 12,
   "id": "cc65a9de-acdc-4f87-b1c2-f10cf0dd7624",
   "metadata": {
    "tags": []
   },
   "outputs": [
    {
     "data": {
      "text/plain": [
       "<Response [200]>"
      ]
     },
     "execution_count": 12,
     "metadata": {},
     "output_type": "execute_result"
    }
   ],
   "source": [
    "response = requests.get(f'{urls[0]}')\n",
    "response"
   ]
  },
  {
   "cell_type": "code",
   "execution_count": 13,
   "id": "43f593a3-f741-4b94-9114-06403805a3e9",
   "metadata": {},
   "outputs": [],
   "source": [
    "page_contents = response.text\n",
    "#page_contents"
   ]
  },
  {
   "cell_type": "code",
   "execution_count": 14,
   "id": "ca274b20-0134-4e99-8b54-85b740d2e47d",
   "metadata": {
    "tags": []
   },
   "outputs": [],
   "source": [
    "soup = bs(response.text, 'lxml')\n",
    "#soup"
   ]
  },
  {
   "cell_type": "code",
   "execution_count": 15,
   "id": "2e8039ff-649a-4a04-9a3e-2cb7c15a2c81",
   "metadata": {
    "tags": []
   },
   "outputs": [],
   "source": [
    "#firstName = []\n",
    "#Competitors = []\n",
    "#DOBS = []\n",
    "#Nats = []\n",
    "#scores = []\n",
    "#urls = []\n",
    "#EventLists = []"
   ]
  },
  {
   "cell_type": "code",
   "execution_count": 16,
   "id": "d5ad3efd-28b9-4dff-a465-3da465314343",
   "metadata": {
    "tags": []
   },
   "outputs": [
    {
     "data": {
      "text/plain": [
       "'Argentina'"
      ]
     },
     "execution_count": 16,
     "metadata": {},
     "output_type": "execute_result"
    }
   ],
   "source": [
    "# Nationality\n",
    "id_info = soup.find_all('div', {'class' : \"profileBasicInfo_statValue__IXJTW\"})\n",
    "id_info[0].text.strip()"
   ]
  },
  {
   "cell_type": "code",
   "execution_count": 17,
   "id": "a78fcdce-529e-44c3-8f61-14d53579486f",
   "metadata": {
    "tags": []
   },
   "outputs": [
    {
     "data": {
      "text/plain": [
       "'13 OCT 1990'"
      ]
     },
     "execution_count": 17,
     "metadata": {},
     "output_type": "execute_result"
    }
   ],
   "source": [
    "# DOB\n",
    "id_info[1].text.strip()"
   ]
  },
  {
   "cell_type": "code",
   "execution_count": 18,
   "id": "c39536bf-6a6d-42b4-92ab-e4e3b296df78",
   "metadata": {
    "tags": []
   },
   "outputs": [
    {
     "data": {
      "text/plain": [
       "'15046287'"
      ]
     },
     "execution_count": 18,
     "metadata": {},
     "output_type": "execute_result"
    }
   ],
   "source": [
    "# Athlete_Id\n",
    "id_info[2].text.strip()"
   ]
  },
  {
   "cell_type": "code",
   "execution_count": 32,
   "id": "ba913910-8301-45e2-8276-ba5cb42a59eb",
   "metadata": {
    "tags": []
   },
   "outputs": [],
   "source": [
    "alpha = soup.find_all('tbody', {'class' : \"profileStatistics_tableBody__1w5O9\"})"
   ]
  },
  {
   "cell_type": "code",
   "execution_count": 33,
   "id": "269b67ba-0a6e-4357-8189-f0d002f5d252",
   "metadata": {
    "tags": []
   },
   "outputs": [
    {
     "data": {
      "text/plain": [
       "[]"
      ]
     },
     "execution_count": 33,
     "metadata": {},
     "output_type": "execute_result"
    }
   ],
   "source": [
    "alpha"
   ]
  },
  {
   "cell_type": "code",
   "execution_count": null,
   "id": "ed02e02c-58c0-4eb3-9cce-c98f2bf55cde",
   "metadata": {},
   "outputs": [],
   "source": [
    "//*[@id=\"__next\"]/div[5]/div/div[2]/div/div[1]/div[2]/div[2]/table/tbody/tr[1]/td[1]/a"
   ]
  }
 ],
 "metadata": {
  "kernelspec": {
   "display_name": "Python 3 (ipykernel)",
   "language": "python",
   "name": "python3"
  },
  "language_info": {
   "codemirror_mode": {
    "name": "ipython",
    "version": 3
   },
   "file_extension": ".py",
   "mimetype": "text/x-python",
   "name": "python",
   "nbconvert_exporter": "python",
   "pygments_lexer": "ipython3",
   "version": "3.11.5"
  }
 },
 "nbformat": 4,
 "nbformat_minor": 5
}
