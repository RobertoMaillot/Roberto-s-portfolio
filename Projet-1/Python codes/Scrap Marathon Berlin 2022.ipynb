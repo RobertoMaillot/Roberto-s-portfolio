{
 "cells": [
  {
   "cell_type": "code",
   "execution_count": 43,
   "id": "ae69501d-7a05-42a4-af1c-b6682926a1f8",
   "metadata": {},
   "outputs": [],
   "source": [
    "# Installation des packages et librairies dont on a besoin"
   ]
  },
  {
   "cell_type": "code",
   "execution_count": 1,
   "id": "4efecd73-730a-4d90-b9ce-dd0ede8311f4",
   "metadata": {
    "tags": []
   },
   "outputs": [],
   "source": [
    "import requests\n",
    "import json\n",
    "import pandas as pd"
   ]
  },
  {
   "cell_type": "code",
   "execution_count": 2,
   "id": "ae3efc86-71f8-46c7-9b81-adff61afc559",
   "metadata": {
    "tags": []
   },
   "outputs": [],
   "source": [
    "#stock_data = []\n",
    " \n",
    "url = requests.get(\"https://api.results.scc-events.com/result?ek=BM&ci=BML&y=2022&draw=1&columns%5B0%5D%5Bdata%5D=platz&columns%5B0%5D%5Bname%5D=&columns%5B0%5D%5Bsearchable%5D=true&columns%5B0%5D%5Borderable%5D=true&columns%5B0%5D%5Bsearch%5D%5Bvalue%5D=&columns%5B0%5D%5Bsearch%5D%5Bregex%5D=false&columns%5B1%5D%5Bdata%5D=startnummer&columns%5B1%5D%5Bname%5D=&columns%5B1%5D%5Bsearchable%5D=true&columns%5B1%5D%5Borderable%5D=false&columns%5B1%5D%5Bsearch%5D%5Bvalue%5D=&columns%5B1%5D%5Bsearch%5D%5Bregex%5D=false&columns%5B2%5D%5Bdata%5D=nachname&columns%5B2%5D%5Bname%5D=&columns%5B2%5D%5Bsearchable%5D=true&columns%5B2%5D%5Borderable%5D=false&columns%5B2%5D%5Bsearch%5D%5Bvalue%5D=&columns%5B2%5D%5Bsearch%5D%5Bregex%5D=false&columns%5B3%5D%5Bdata%5D=vorname&columns%5B3%5D%5Bname%5D=&columns%5B3%5D%5Bsearchable%5D=true&columns%5B3%5D%5Borderable%5D=false&columns%5B3%5D%5Bsearch%5D%5Bvalue%5D=&columns%5B3%5D%5Bsearch%5D%5Bregex%5D=false&columns%5B4%5D%5Bdata%5D=verein&columns%5B4%5D%5Bname%5D=&columns%5B4%5D%5Bsearchable%5D=true&columns%5B4%5D%5Borderable%5D=true&columns%5B4%5D%5Bsearch%5D%5Bvalue%5D=&columns%5B4%5D%5Bsearch%5D%5Bregex%5D=false&columns%5B5%5D%5Bdata%5D=nation&columns%5B5%5D%5Bname%5D=&columns%5B5%5D%5Bsearchable%5D=true&columns%5B5%5D%5Borderable%5D=false&columns%5B5%5D%5Bsearch%5D%5Bvalue%5D=&columns%5B5%5D%5Bsearch%5D%5Bregex%5D=false&columns%5B6%5D%5Bdata%5D=sex&columns%5B6%5D%5Bname%5D=&columns%5B6%5D%5Bsearchable%5D=true&columns%5B6%5D%5Borderable%5D=true&columns%5B6%5D%5Bsearch%5D%5Bvalue%5D=&columns%5B6%5D%5Bsearch%5D%5Bregex%5D=false&columns%5B7%5D%5Bdata%5D=ak&columns%5B7%5D%5Bname%5D=&columns%5B7%5D%5Bsearchable%5D=true&columns%5B7%5D%5Borderable%5D=true&columns%5B7%5D%5Bsearch%5D%5Bvalue%5D=&columns%5B7%5D%5Bsearch%5D%5Bregex%5D=false&columns%5B8%5D%5Bdata%5D=ak_plazierung&columns%5B8%5D%5Bname%5D=&columns%5B8%5D%5Bsearchable%5D=true&columns%5B8%5D%5Borderable%5D=true&columns%5B8%5D%5Bsearch%5D%5Bvalue%5D=&columns%5B8%5D%5Bsearch%5D%5Bregex%5D=false&columns%5B9%5D%5Bdata%5D=netto&columns%5B9%5D%5Bname%5D=&columns%5B9%5D%5Bsearchable%5D=true&columns%5B9%5D%5Borderable%5D=true&columns%5B9%5D%5Bsearch%5D%5Bvalue%5D=&columns%5B9%5D%5Bsearch%5D%5Bregex%5D=false&columns%5B10%5D%5Bdata%5D=brutto&columns%5B10%5D%5Bname%5D=&columns%5B10%5D%5Bsearchable%5D=true&columns%5B10%5D%5Borderable%5D=true&columns%5B10%5D%5Bsearch%5D%5Bvalue%5D=&columns%5B10%5D%5Bsearch%5D%5Bregex%5D=false&columns%5B11%5D%5Bdata%5D=&columns%5B11%5D%5Bname%5D=&columns%5B11%5D%5Bsearchable%5D=true&columns%5B11%5D%5Borderable%5D=false&columns%5B11%5D%5Bsearch%5D%5Bvalue%5D=&columns%5B11%5D%5Bsearch%5D%5Bregex%5D=false&columns%5B12%5D%5Bdata%5D=&columns%5B12%5D%5Bname%5D=&columns%5B12%5D%5Bsearchable%5D=true&columns%5B12%5D%5Borderable%5D=false&columns%5B12%5D%5Bsearch%5D%5Bvalue%5D=&columns%5B12%5D%5Bsearch%5D%5Bregex%5D=false&order%5B0%5D%5Bcolumn%5D=0&order%5B0%5D%5Bdir%5D=asc&start=0&length=43045&search%5Bvalue%5D=&search%5Bregex%5D=false&_=1709293085027\")\n",
    "text = url.text  # type = str\n",
    "#stock_data.append(text)"
   ]
  },
  {
   "cell_type": "code",
   "execution_count": null,
   "id": "121c9c9e-8db6-40d5-8e0e-c7c1808b86ad",
   "metadata": {},
   "outputs": [],
   "source": [
    "# https://api.results.scc-events.com/result?ek=BM&ci=BML&y=2023&draw=1&columns%5B0%5D%5Bdata%5D=platz&columns%5B0%5D%5Bname%5D=&columns%5B0%5D%5Bsearchable%5D=true&columns%5B0%5D%5Borderable%5D=true&columns%5B0%5D%5Bsearch%5D%5Bvalue%5D=&columns%5B0%5D%5Bsearch%5D%5Bregex%5D=false&columns%5B1%5D%5Bdata%5D=startnummer&columns%5B1%5D%5Bname%5D=&columns%5B1%5D%5Bsearchable%5D=true&columns%5B1%5D%5Borderable%5D=false&columns%5B1%5D%5Bsearch%5D%5Bvalue%5D=&columns%5B1%5D%5Bsearch%5D%5Bregex%5D=false&columns%5B2%5D%5Bdata%5D=nachname&columns%5B2%5D%5Bname%5D=&columns%5B2%5D%5Bsearchable%5D=true&columns%5B2%5D%5Borderable%5D=false&columns%5B2%5D%5Bsearch%5D%5Bvalue%5D=&columns%5B2%5D%5Bsearch%5D%5Bregex%5D=false&columns%5B3%5D%5Bdata%5D=vorname&columns%5B3%5D%5Bname%5D=&columns%5B3%5D%5Bsearchable%5D=true&columns%5B3%5D%5Borderable%5D=false&columns%5B3%5D%5Bsearch%5D%5Bvalue%5D=&columns%5B3%5D%5Bsearch%5D%5Bregex%5D=false&columns%5B4%5D%5Bdata%5D=verein&columns%5B4%5D%5Bname%5D=&columns%5B4%5D%5Bsearchable%5D=true&columns%5B4%5D%5Borderable%5D=true&columns%5B4%5D%5Bsearch%5D%5Bvalue%5D=&columns%5B4%5D%5Bsearch%5D%5Bregex%5D=false&columns%5B5%5D%5Bdata%5D=nation&columns%5B5%5D%5Bname%5D=&columns%5B5%5D%5Bsearchable%5D=true&columns%5B5%5D%5Borderable%5D=false&columns%5B5%5D%5Bsearch%5D%5Bvalue%5D=&columns%5B5%5D%5Bsearch%5D%5Bregex%5D=false&columns%5B6%5D%5Bdata%5D=sex&columns%5B6%5D%5Bname%5D=&columns%5B6%5D%5Bsearchable%5D=true&columns%5B6%5D%5Borderable%5D=true&columns%5B6%5D%5Bsearch%5D%5Bvalue%5D=&columns%5B6%5D%5Bsearch%5D%5Bregex%5D=false&columns%5B7%5D%5Bdata%5D=ak&columns%5B7%5D%5Bname%5D=&columns%5B7%5D%5Bsearchable%5D=true&columns%5B7%5D%5Borderable%5D=true&columns%5B7%5D%5Bsearch%5D%5Bvalue%5D=&columns%5B7%5D%5Bsearch%5D%5Bregex%5D=false&columns%5B8%5D%5Bdata%5D=ak_plazierung&columns%5B8%5D%5Bname%5D=&columns%5B8%5D%5Bsearchable%5D=true&columns%5B8%5D%5Borderable%5D=true&columns%5B8%5D%5Bsearch%5D%5Bvalue%5D=&columns%5B8%5D%5Bsearch%5D%5Bregex%5D=false&columns%5B9%5D%5Bdata%5D=netto&columns%5B9%5D%5Bname%5D=&columns%5B9%5D%5Bsearchable%5D=true&columns%5B9%5D%5Borderable%5D=true&columns%5B9%5D%5Bsearch%5D%5Bvalue%5D=&columns%5B9%5D%5Bsearch%5D%5Bregex%5D=false&columns%5B10%5D%5Bdata%5D=brutto&columns%5B10%5D%5Bname%5D=&columns%5B10%5D%5Bsearchable%5D=true&columns%5B10%5D%5Borderable%5D=true&columns%5B10%5D%5Bsearch%5D%5Bvalue%5D=&columns%5B10%5D%5Bsearch%5D%5Bregex%5D=false&columns%5B11%5D%5Bdata%5D=&columns%5B11%5D%5Bname%5D=&columns%5B11%5D%5Bsearchable%5D=true&columns%5B11%5D%5Borderable%5D=false&columns%5B11%5D%5Bsearch%5D%5Bvalue%5D=&columns%5B11%5D%5Bsearch%5D%5Bregex%5D=false&columns%5B12%5D%5Bdata%5D=&columns%5B12%5D%5Bname%5D=&columns%5B12%5D%5Bsearchable%5D=true&columns%5B12%5D%5Borderable%5D=false&columns%5B12%5D%5Bsearch%5D%5Bvalue%5D=&columns%5B12%5D%5Bsearch%5D%5Bregex%5D=false&order%5B0%5D%5Bcolumn%5D=0&order%5B0%5D%5Bdir%5D=asc&start=0&length=43045&search%5Bvalue%5D=&search%5Bregex%5D=false&_=1709293085027"
   ]
  },
  {
   "cell_type": "code",
   "execution_count": 3,
   "id": "54ce101d-d017-4f1c-bb3d-87dda90a8436",
   "metadata": {
    "tags": []
   },
   "outputs": [
    {
     "data": {
      "text/plain": [
       "str"
      ]
     },
     "execution_count": 3,
     "metadata": {},
     "output_type": "execute_result"
    }
   ],
   "source": [
    "type(text)"
   ]
  },
  {
   "cell_type": "code",
   "execution_count": 6,
   "id": "458ee58e-6c2a-4c92-b9db-9cf46e4a48ba",
   "metadata": {
    "tags": []
   },
   "outputs": [],
   "source": [
    "# Charger les données en tant que dictionnaire\n",
    "data_dict = json.loads(text)"
   ]
  },
  {
   "cell_type": "code",
   "execution_count": 8,
   "id": "eb15e498-4828-4376-8c9f-c24fe95e85ed",
   "metadata": {
    "tags": []
   },
   "outputs": [],
   "source": [
    "dict_data = data_dict['data']"
   ]
  },
  {
   "cell_type": "code",
   "execution_count": 12,
   "id": "6d75af59-cc2e-43e7-807e-9fba098f5fd8",
   "metadata": {
    "tags": []
   },
   "outputs": [
    {
     "data": {
      "text/plain": [
       "{'id': 46966,\n",
       " 'event': 'BMW BERLIN-MARATHON 2023',\n",
       " 'ident': 'BML',\n",
       " 'description': 'Laufen',\n",
       " 'startnummer': '4006',\n",
       " 'name': 'Görs, Kai',\n",
       " 'vorname': 'Kai',\n",
       " 'nachname': 'Görs',\n",
       " 'sex': 'M',\n",
       " 'jahrgang': 1977,\n",
       " 'ak': '45',\n",
       " 'nation': 'GER',\n",
       " 'verein': 'Laufen ist mein Leben',\n",
       " 'sex_plazierung': 28609,\n",
       " 'platz': 43050,\n",
       " 'ak_plazierung': 4033,\n",
       " 'netto': '07:52:16',\n",
       " 'brutto': '07:58:00',\n",
       " 'z5': '00:46:55',\n",
       " 'z10': '01:33:56',\n",
       " 'z15': '02:24:12',\n",
       " 'z20': '03:20:16',\n",
       " 'halbmarathon': '03:32:04',\n",
       " 'z25': '04:19:00',\n",
       " 'z30': '05:20:16',\n",
       " 'z35': '06:19:40',\n",
       " 'z40': '07:22:57',\n",
       " 'personen_id': 'HCH3C0OH23AED',\n",
       " 'participant_id': 'HCH3C0OH7AAAB'}"
      ]
     },
     "execution_count": 12,
     "metadata": {},
     "output_type": "execute_result"
    }
   ],
   "source": [
    "dict_data[43044]"
   ]
  },
  {
   "cell_type": "code",
   "execution_count": 13,
   "id": "d751af13-eea0-4bdc-b926-6996f6c8fcc5",
   "metadata": {
    "tags": []
   },
   "outputs": [
    {
     "name": "stdout",
     "output_type": "stream",
     "text": [
      "      startnummer   nachname     vorname                  verein nation sex  \\\n",
      "0               1   Kipchoge       Eliud                            KEN   M   \n",
      "1              69   Kipkemoi     Vincent                            KEN   M   \n",
      "2              68     Takele      Tadese                            ETH   M   \n",
      "3               7      Korir      Ronald                            KEN   M   \n",
      "4              13      Teklu       Haftu                            ETH   M   \n",
      "...           ...        ...         ...                     ...    ...  ..   \n",
      "43040        4936      Braun      Julian        Grüne Handschuhe    GER   M   \n",
      "43041       68970       Shah  Vijaykumar                            GBR   M   \n",
      "43042         649  Glomsaker       Kalle           MHI friidrett    NOR   M   \n",
      "43043       67281       RING     MICHAEL  Achilles International    USA   M   \n",
      "43044        4006       Görs         Kai   Laufen ist mein Leben    GER   M   \n",
      "\n",
      "       ak_plazierung     netto    brutto  \n",
      "0                  1  02:02:42  02:02:42  \n",
      "1                  1  02:03:13  02:03:13  \n",
      "2                  2  02:03:24  02:03:24  \n",
      "3                  1  02:04:22  02:04:22  \n",
      "4                  3  02:04:42  02:04:42  \n",
      "...              ...       ...       ...  \n",
      "43040           4494  07:39:17  07:56:17  \n",
      "43041            556  07:42:32  07:44:47  \n",
      "43042            557  07:48:45  07:54:20  \n",
      "43043           1522  07:50:01  07:58:40  \n",
      "43044           4033  07:52:16  07:58:00  \n",
      "\n",
      "[43045 rows x 9 columns]\n"
     ]
    }
   ],
   "source": [
    "data_list = []\n",
    "\n",
    "# Récupérer les données de chaque entrée dans dict_data\n",
    "for item in dict_data:\n",
    "    data_list.append({\n",
    "        'startnummer': item.get('startnummer', ''),\n",
    "        'nachname': item.get('nachname', ''),\n",
    "        'vorname': item.get('vorname', ''),\n",
    "        'verein': item.get('verein', ''),\n",
    "        'nation': item.get('nation', ''),\n",
    "        'sex': item.get('sex', ''),\n",
    "        'ak_plazierung': item.get('ak_plazierung', ''),\n",
    "        'netto': item.get('netto', ''),\n",
    "        'brutto': item.get('brutto', '')\n",
    "    })\n",
    "\n",
    "# Créer un DataFrame à partir de la liste de dictionnaires\n",
    "df = pd.DataFrame(data_list)\n",
    "\n",
    "# Afficher le DataFrame\n",
    "print(df)"
   ]
  },
  {
   "cell_type": "code",
   "execution_count": 14,
   "id": "fa9b4f80-8bdc-4dd2-83fd-af87a30d9920",
   "metadata": {
    "tags": []
   },
   "outputs": [
    {
     "name": "stdout",
     "output_type": "stream",
     "text": [
      "<class 'pandas.core.frame.DataFrame'>\n",
      "RangeIndex: 43045 entries, 0 to 43044\n",
      "Data columns (total 9 columns):\n",
      " #   Column         Non-Null Count  Dtype \n",
      "---  ------         --------------  ----- \n",
      " 0   startnummer    43045 non-null  object\n",
      " 1   nachname       43045 non-null  object\n",
      " 2   vorname        43045 non-null  object\n",
      " 3   verein         43045 non-null  object\n",
      " 4   nation         43045 non-null  object\n",
      " 5   sex            43045 non-null  object\n",
      " 6   ak_plazierung  43045 non-null  int64 \n",
      " 7   netto          43045 non-null  object\n",
      " 8   brutto         43045 non-null  object\n",
      "dtypes: int64(1), object(8)\n",
      "memory usage: 3.0+ MB\n"
     ]
    }
   ],
   "source": [
    "df.info()"
   ]
  },
  {
   "cell_type": "code",
   "execution_count": 15,
   "id": "0dc6428b-9aed-4281-aecc-bf8573a50b7c",
   "metadata": {
    "tags": []
   },
   "outputs": [
    {
     "data": {
      "text/html": [
       "<div>\n",
       "<style scoped>\n",
       "    .dataframe tbody tr th:only-of-type {\n",
       "        vertical-align: middle;\n",
       "    }\n",
       "\n",
       "    .dataframe tbody tr th {\n",
       "        vertical-align: top;\n",
       "    }\n",
       "\n",
       "    .dataframe thead th {\n",
       "        text-align: right;\n",
       "    }\n",
       "</style>\n",
       "<table border=\"1\" class=\"dataframe\">\n",
       "  <thead>\n",
       "    <tr style=\"text-align: right;\">\n",
       "      <th></th>\n",
       "      <th>ak_plazierung</th>\n",
       "    </tr>\n",
       "  </thead>\n",
       "  <tbody>\n",
       "    <tr>\n",
       "      <th>count</th>\n",
       "      <td>43045.000000</td>\n",
       "    </tr>\n",
       "    <tr>\n",
       "      <th>mean</th>\n",
       "      <td>1544.863422</td>\n",
       "    </tr>\n",
       "    <tr>\n",
       "      <th>std</th>\n",
       "      <td>1128.382858</td>\n",
       "    </tr>\n",
       "    <tr>\n",
       "      <th>min</th>\n",
       "      <td>0.000000</td>\n",
       "    </tr>\n",
       "    <tr>\n",
       "      <th>25%</th>\n",
       "      <td>609.000000</td>\n",
       "    </tr>\n",
       "    <tr>\n",
       "      <th>50%</th>\n",
       "      <td>1351.000000</td>\n",
       "    </tr>\n",
       "    <tr>\n",
       "      <th>75%</th>\n",
       "      <td>2239.000000</td>\n",
       "    </tr>\n",
       "    <tr>\n",
       "      <th>max</th>\n",
       "      <td>4717.000000</td>\n",
       "    </tr>\n",
       "  </tbody>\n",
       "</table>\n",
       "</div>"
      ],
      "text/plain": [
       "       ak_plazierung\n",
       "count   43045.000000\n",
       "mean     1544.863422\n",
       "std      1128.382858\n",
       "min         0.000000\n",
       "25%       609.000000\n",
       "50%      1351.000000\n",
       "75%      2239.000000\n",
       "max      4717.000000"
      ]
     },
     "execution_count": 15,
     "metadata": {},
     "output_type": "execute_result"
    }
   ],
   "source": [
    "df.describe()"
   ]
  },
  {
   "cell_type": "code",
   "execution_count": 16,
   "id": "d1eb851e-5dfc-4411-a6f8-ac5f2c811992",
   "metadata": {
    "tags": []
   },
   "outputs": [
    {
     "data": {
      "text/html": [
       "<div>\n",
       "<style scoped>\n",
       "    .dataframe tbody tr th:only-of-type {\n",
       "        vertical-align: middle;\n",
       "    }\n",
       "\n",
       "    .dataframe tbody tr th {\n",
       "        vertical-align: top;\n",
       "    }\n",
       "\n",
       "    .dataframe thead th {\n",
       "        text-align: right;\n",
       "    }\n",
       "</style>\n",
       "<table border=\"1\" class=\"dataframe\">\n",
       "  <thead>\n",
       "    <tr style=\"text-align: right;\">\n",
       "      <th></th>\n",
       "      <th>startnummer</th>\n",
       "      <th>nachname</th>\n",
       "      <th>vorname</th>\n",
       "      <th>verein</th>\n",
       "      <th>nation</th>\n",
       "      <th>sex</th>\n",
       "      <th>ak_plazierung</th>\n",
       "      <th>netto</th>\n",
       "      <th>brutto</th>\n",
       "    </tr>\n",
       "  </thead>\n",
       "  <tbody>\n",
       "    <tr>\n",
       "      <th>0</th>\n",
       "      <td>1</td>\n",
       "      <td>Kipchoge</td>\n",
       "      <td>Eliud</td>\n",
       "      <td></td>\n",
       "      <td>KEN</td>\n",
       "      <td>M</td>\n",
       "      <td>1</td>\n",
       "      <td>02:02:42</td>\n",
       "      <td>02:02:42</td>\n",
       "    </tr>\n",
       "    <tr>\n",
       "      <th>1</th>\n",
       "      <td>69</td>\n",
       "      <td>Kipkemoi</td>\n",
       "      <td>Vincent</td>\n",
       "      <td></td>\n",
       "      <td>KEN</td>\n",
       "      <td>M</td>\n",
       "      <td>1</td>\n",
       "      <td>02:03:13</td>\n",
       "      <td>02:03:13</td>\n",
       "    </tr>\n",
       "    <tr>\n",
       "      <th>2</th>\n",
       "      <td>68</td>\n",
       "      <td>Takele</td>\n",
       "      <td>Tadese</td>\n",
       "      <td></td>\n",
       "      <td>ETH</td>\n",
       "      <td>M</td>\n",
       "      <td>2</td>\n",
       "      <td>02:03:24</td>\n",
       "      <td>02:03:24</td>\n",
       "    </tr>\n",
       "    <tr>\n",
       "      <th>3</th>\n",
       "      <td>7</td>\n",
       "      <td>Korir</td>\n",
       "      <td>Ronald</td>\n",
       "      <td></td>\n",
       "      <td>KEN</td>\n",
       "      <td>M</td>\n",
       "      <td>1</td>\n",
       "      <td>02:04:22</td>\n",
       "      <td>02:04:22</td>\n",
       "    </tr>\n",
       "    <tr>\n",
       "      <th>4</th>\n",
       "      <td>13</td>\n",
       "      <td>Teklu</td>\n",
       "      <td>Haftu</td>\n",
       "      <td></td>\n",
       "      <td>ETH</td>\n",
       "      <td>M</td>\n",
       "      <td>3</td>\n",
       "      <td>02:04:42</td>\n",
       "      <td>02:04:42</td>\n",
       "    </tr>\n",
       "  </tbody>\n",
       "</table>\n",
       "</div>"
      ],
      "text/plain": [
       "  startnummer  nachname  vorname verein nation sex  ak_plazierung     netto  \\\n",
       "0           1  Kipchoge    Eliud           KEN   M              1  02:02:42   \n",
       "1          69  Kipkemoi  Vincent           KEN   M              1  02:03:13   \n",
       "2          68    Takele   Tadese           ETH   M              2  02:03:24   \n",
       "3           7     Korir   Ronald           KEN   M              1  02:04:22   \n",
       "4          13     Teklu    Haftu           ETH   M              3  02:04:42   \n",
       "\n",
       "     brutto  \n",
       "0  02:02:42  \n",
       "1  02:03:13  \n",
       "2  02:03:24  \n",
       "3  02:04:22  \n",
       "4  02:04:42  "
      ]
     },
     "execution_count": 16,
     "metadata": {},
     "output_type": "execute_result"
    }
   ],
   "source": [
    "df.head()"
   ]
  },
  {
   "cell_type": "code",
   "execution_count": 17,
   "id": "a6097135-31cb-4458-8a45-e57ef6f2ee38",
   "metadata": {
    "tags": []
   },
   "outputs": [],
   "source": [
    "df = df.drop_duplicates()"
   ]
  },
  {
   "cell_type": "code",
   "execution_count": 18,
   "id": "8a6a63c8-2c57-4ab6-a142-8dcd8b4e4454",
   "metadata": {
    "tags": []
   },
   "outputs": [
    {
     "name": "stdout",
     "output_type": "stream",
     "text": [
      "<class 'pandas.core.frame.DataFrame'>\n",
      "RangeIndex: 43045 entries, 0 to 43044\n",
      "Data columns (total 9 columns):\n",
      " #   Column         Non-Null Count  Dtype \n",
      "---  ------         --------------  ----- \n",
      " 0   startnummer    43045 non-null  object\n",
      " 1   nachname       43045 non-null  object\n",
      " 2   vorname        43045 non-null  object\n",
      " 3   verein         43045 non-null  object\n",
      " 4   nation         43045 non-null  object\n",
      " 5   sex            43045 non-null  object\n",
      " 6   ak_plazierung  43045 non-null  int64 \n",
      " 7   netto          43045 non-null  object\n",
      " 8   brutto         43045 non-null  object\n",
      "dtypes: int64(1), object(8)\n",
      "memory usage: 3.0+ MB\n"
     ]
    }
   ],
   "source": [
    "df.info()"
   ]
  },
  {
   "cell_type": "code",
   "execution_count": 19,
   "id": "205a6ebe-3bec-4d6b-8f1a-393101150229",
   "metadata": {
    "tags": []
   },
   "outputs": [],
   "source": [
    "df.to_csv('marathon_Berlin_2023.csv', index=False)"
   ]
  },
  {
   "cell_type": "code",
   "execution_count": null,
   "id": "3d471f56-79ae-42ed-8b44-4ca1cf5c9363",
   "metadata": {},
   "outputs": [],
   "source": []
  }
 ],
 "metadata": {
  "kernelspec": {
   "display_name": "Python 3 (ipykernel)",
   "language": "python",
   "name": "python3"
  },
  "language_info": {
   "codemirror_mode": {
    "name": "ipython",
    "version": 3
   },
   "file_extension": ".py",
   "mimetype": "text/x-python",
   "name": "python",
   "nbconvert_exporter": "python",
   "pygments_lexer": "ipython3",
   "version": "3.11.5"
  }
 },
 "nbformat": 4,
 "nbformat_minor": 5
}
