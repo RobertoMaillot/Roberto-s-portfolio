{
 "cells": [
  {
   "cell_type": "code",
   "execution_count": 1,
   "id": "ae69501d-7a05-42a4-af1c-b6682926a1f8",
   "metadata": {},
   "outputs": [],
   "source": [
    "# Installation des packages et librairies dont on a besoin"
   ]
  },
  {
   "cell_type": "code",
   "execution_count": 2,
   "id": "4efecd73-730a-4d90-b9ce-dd0ede8311f4",
   "metadata": {
    "tags": []
   },
   "outputs": [],
   "source": [
    "import requests\n",
    "import json\n",
    "import pandas as pd"
   ]
  },
  {
   "cell_type": "code",
   "execution_count": 3,
   "id": "ae3efc86-71f8-46c7-9b81-adff61afc559",
   "metadata": {
    "tags": []
   },
   "outputs": [],
   "source": [
    "#stock_data = []\n",
    " \n",
    "url = requests.get(\"https://api.results.scc-events.com/result?ek=BM&ci=BML&y=2022&draw=1&columns%5B0%5D%5Bdata%5D=platz&columns%5B0%5D%5Bname%5D=&columns%5B0%5D%5Bsearchable%5D=true&columns%5B0%5D%5Borderable%5D=true&columns%5B0%5D%5Bsearch%5D%5Bvalue%5D=&columns%5B0%5D%5Bsearch%5D%5Bregex%5D=false&columns%5B1%5D%5Bdata%5D=startnummer&columns%5B1%5D%5Bname%5D=&columns%5B1%5D%5Bsearchable%5D=true&columns%5B1%5D%5Borderable%5D=false&columns%5B1%5D%5Bsearch%5D%5Bvalue%5D=&columns%5B1%5D%5Bsearch%5D%5Bregex%5D=false&columns%5B2%5D%5Bdata%5D=nachname&columns%5B2%5D%5Bname%5D=&columns%5B2%5D%5Bsearchable%5D=true&columns%5B2%5D%5Borderable%5D=false&columns%5B2%5D%5Bsearch%5D%5Bvalue%5D=&columns%5B2%5D%5Bsearch%5D%5Bregex%5D=false&columns%5B3%5D%5Bdata%5D=vorname&columns%5B3%5D%5Bname%5D=&columns%5B3%5D%5Bsearchable%5D=true&columns%5B3%5D%5Borderable%5D=false&columns%5B3%5D%5Bsearch%5D%5Bvalue%5D=&columns%5B3%5D%5Bsearch%5D%5Bregex%5D=false&columns%5B4%5D%5Bdata%5D=verein&columns%5B4%5D%5Bname%5D=&columns%5B4%5D%5Bsearchable%5D=true&columns%5B4%5D%5Borderable%5D=true&columns%5B4%5D%5Bsearch%5D%5Bvalue%5D=&columns%5B4%5D%5Bsearch%5D%5Bregex%5D=false&columns%5B5%5D%5Bdata%5D=nation&columns%5B5%5D%5Bname%5D=&columns%5B5%5D%5Bsearchable%5D=true&columns%5B5%5D%5Borderable%5D=false&columns%5B5%5D%5Bsearch%5D%5Bvalue%5D=&columns%5B5%5D%5Bsearch%5D%5Bregex%5D=false&columns%5B6%5D%5Bdata%5D=sex&columns%5B6%5D%5Bname%5D=&columns%5B6%5D%5Bsearchable%5D=true&columns%5B6%5D%5Borderable%5D=true&columns%5B6%5D%5Bsearch%5D%5Bvalue%5D=&columns%5B6%5D%5Bsearch%5D%5Bregex%5D=false&columns%5B7%5D%5Bdata%5D=ak&columns%5B7%5D%5Bname%5D=&columns%5B7%5D%5Bsearchable%5D=true&columns%5B7%5D%5Borderable%5D=true&columns%5B7%5D%5Bsearch%5D%5Bvalue%5D=&columns%5B7%5D%5Bsearch%5D%5Bregex%5D=false&columns%5B8%5D%5Bdata%5D=ak_plazierung&columns%5B8%5D%5Bname%5D=&columns%5B8%5D%5Bsearchable%5D=true&columns%5B8%5D%5Borderable%5D=true&columns%5B8%5D%5Bsearch%5D%5Bvalue%5D=&columns%5B8%5D%5Bsearch%5D%5Bregex%5D=false&columns%5B9%5D%5Bdata%5D=netto&columns%5B9%5D%5Bname%5D=&columns%5B9%5D%5Bsearchable%5D=true&columns%5B9%5D%5Borderable%5D=true&columns%5B9%5D%5Bsearch%5D%5Bvalue%5D=&columns%5B9%5D%5Bsearch%5D%5Bregex%5D=false&columns%5B10%5D%5Bdata%5D=brutto&columns%5B10%5D%5Bname%5D=&columns%5B10%5D%5Bsearchable%5D=true&columns%5B10%5D%5Borderable%5D=true&columns%5B10%5D%5Bsearch%5D%5Bvalue%5D=&columns%5B10%5D%5Bsearch%5D%5Bregex%5D=false&columns%5B11%5D%5Bdata%5D=&columns%5B11%5D%5Bname%5D=&columns%5B11%5D%5Bsearchable%5D=true&columns%5B11%5D%5Borderable%5D=false&columns%5B11%5D%5Bsearch%5D%5Bvalue%5D=&columns%5B11%5D%5Bsearch%5D%5Bregex%5D=false&columns%5B12%5D%5Bdata%5D=&columns%5B12%5D%5Bname%5D=&columns%5B12%5D%5Bsearchable%5D=true&columns%5B12%5D%5Borderable%5D=false&columns%5B12%5D%5Bsearch%5D%5Bvalue%5D=&columns%5B12%5D%5Bsearch%5D%5Bregex%5D=false&order%5B0%5D%5Bcolumn%5D=0&order%5B0%5D%5Bdir%5D=asc&start=0&length=34745&search%5Bvalue%5D=&search%5Bregex%5D=false&_=1709293085027\")\n",
    "text = url.text  # type = str\n",
    "#stock_data.append(text)"
   ]
  },
  {
   "cell_type": "code",
   "execution_count": 4,
   "id": "121c9c9e-8db6-40d5-8e0e-c7c1808b86ad",
   "metadata": {},
   "outputs": [],
   "source": [
    "# https://api.results.scc-events.com/result?ek=BM&ci=BML&y=2023&draw=1&columns%5B0%5D%5Bdata%5D=platz&columns%5B0%5D%5Bname%5D=&columns%5B0%5D%5Bsearchable%5D=true&columns%5B0%5D%5Borderable%5D=true&columns%5B0%5D%5Bsearch%5D%5Bvalue%5D=&columns%5B0%5D%5Bsearch%5D%5Bregex%5D=false&columns%5B1%5D%5Bdata%5D=startnummer&columns%5B1%5D%5Bname%5D=&columns%5B1%5D%5Bsearchable%5D=true&columns%5B1%5D%5Borderable%5D=false&columns%5B1%5D%5Bsearch%5D%5Bvalue%5D=&columns%5B1%5D%5Bsearch%5D%5Bregex%5D=false&columns%5B2%5D%5Bdata%5D=nachname&columns%5B2%5D%5Bname%5D=&columns%5B2%5D%5Bsearchable%5D=true&columns%5B2%5D%5Borderable%5D=false&columns%5B2%5D%5Bsearch%5D%5Bvalue%5D=&columns%5B2%5D%5Bsearch%5D%5Bregex%5D=false&columns%5B3%5D%5Bdata%5D=vorname&columns%5B3%5D%5Bname%5D=&columns%5B3%5D%5Bsearchable%5D=true&columns%5B3%5D%5Borderable%5D=false&columns%5B3%5D%5Bsearch%5D%5Bvalue%5D=&columns%5B3%5D%5Bsearch%5D%5Bregex%5D=false&columns%5B4%5D%5Bdata%5D=verein&columns%5B4%5D%5Bname%5D=&columns%5B4%5D%5Bsearchable%5D=true&columns%5B4%5D%5Borderable%5D=true&columns%5B4%5D%5Bsearch%5D%5Bvalue%5D=&columns%5B4%5D%5Bsearch%5D%5Bregex%5D=false&columns%5B5%5D%5Bdata%5D=nation&columns%5B5%5D%5Bname%5D=&columns%5B5%5D%5Bsearchable%5D=true&columns%5B5%5D%5Borderable%5D=false&columns%5B5%5D%5Bsearch%5D%5Bvalue%5D=&columns%5B5%5D%5Bsearch%5D%5Bregex%5D=false&columns%5B6%5D%5Bdata%5D=sex&columns%5B6%5D%5Bname%5D=&columns%5B6%5D%5Bsearchable%5D=true&columns%5B6%5D%5Borderable%5D=true&columns%5B6%5D%5Bsearch%5D%5Bvalue%5D=&columns%5B6%5D%5Bsearch%5D%5Bregex%5D=false&columns%5B7%5D%5Bdata%5D=ak&columns%5B7%5D%5Bname%5D=&columns%5B7%5D%5Bsearchable%5D=true&columns%5B7%5D%5Borderable%5D=true&columns%5B7%5D%5Bsearch%5D%5Bvalue%5D=&columns%5B7%5D%5Bsearch%5D%5Bregex%5D=false&columns%5B8%5D%5Bdata%5D=ak_plazierung&columns%5B8%5D%5Bname%5D=&columns%5B8%5D%5Bsearchable%5D=true&columns%5B8%5D%5Borderable%5D=true&columns%5B8%5D%5Bsearch%5D%5Bvalue%5D=&columns%5B8%5D%5Bsearch%5D%5Bregex%5D=false&columns%5B9%5D%5Bdata%5D=netto&columns%5B9%5D%5Bname%5D=&columns%5B9%5D%5Bsearchable%5D=true&columns%5B9%5D%5Borderable%5D=true&columns%5B9%5D%5Bsearch%5D%5Bvalue%5D=&columns%5B9%5D%5Bsearch%5D%5Bregex%5D=false&columns%5B10%5D%5Bdata%5D=brutto&columns%5B10%5D%5Bname%5D=&columns%5B10%5D%5Bsearchable%5D=true&columns%5B10%5D%5Borderable%5D=true&columns%5B10%5D%5Bsearch%5D%5Bvalue%5D=&columns%5B10%5D%5Bsearch%5D%5Bregex%5D=false&columns%5B11%5D%5Bdata%5D=&columns%5B11%5D%5Bname%5D=&columns%5B11%5D%5Bsearchable%5D=true&columns%5B11%5D%5Borderable%5D=false&columns%5B11%5D%5Bsearch%5D%5Bvalue%5D=&columns%5B11%5D%5Bsearch%5D%5Bregex%5D=false&columns%5B12%5D%5Bdata%5D=&columns%5B12%5D%5Bname%5D=&columns%5B12%5D%5Bsearchable%5D=true&columns%5B12%5D%5Borderable%5D=false&columns%5B12%5D%5Bsearch%5D%5Bvalue%5D=&columns%5B12%5D%5Bsearch%5D%5Bregex%5D=false&order%5B0%5D%5Bcolumn%5D=0&order%5B0%5D%5Bdir%5D=asc&start=0&length=43045&search%5Bvalue%5D=&search%5Bregex%5D=false&_=1709293085027"
   ]
  },
  {
   "cell_type": "code",
   "execution_count": 5,
   "id": "54ce101d-d017-4f1c-bb3d-87dda90a8436",
   "metadata": {
    "tags": []
   },
   "outputs": [
    {
     "data": {
      "text/plain": [
       "str"
      ]
     },
     "execution_count": 5,
     "metadata": {},
     "output_type": "execute_result"
    }
   ],
   "source": [
    "type(text)"
   ]
  },
  {
   "cell_type": "code",
   "execution_count": 6,
   "id": "458ee58e-6c2a-4c92-b9db-9cf46e4a48ba",
   "metadata": {
    "tags": []
   },
   "outputs": [],
   "source": [
    "# Charger les données en tant que dictionnaire\n",
    "data_dict = json.loads(text)"
   ]
  },
  {
   "cell_type": "code",
   "execution_count": 7,
   "id": "eb15e498-4828-4376-8c9f-c24fe95e85ed",
   "metadata": {
    "tags": []
   },
   "outputs": [],
   "source": [
    "dict_data = data_dict['data']"
   ]
  },
  {
   "cell_type": "code",
   "execution_count": 9,
   "id": "6d75af59-cc2e-43e7-807e-9fba098f5fd8",
   "metadata": {
    "tags": []
   },
   "outputs": [
    {
     "data": {
      "text/plain": [
       "{'id': 38124,\n",
       " 'event': 'BMW BERLIN-MARATHON 2022',\n",
       " 'ident': 'BML',\n",
       " 'description': 'Laufen',\n",
       " 'startnummer': '70469',\n",
       " 'name': 'VERAZA, RICARDO',\n",
       " 'vorname': 'RICARDO',\n",
       " 'nachname': 'VERAZA',\n",
       " 'sex': 'M',\n",
       " 'jahrgang': 1963,\n",
       " 'ak': '55',\n",
       " 'nation': 'MEX',\n",
       " 'verein': 'RUN FRIENDS',\n",
       " 'sex_plazierung': 23246,\n",
       " 'platz': 34751,\n",
       " 'ak_plazierung': 2109,\n",
       " 'netto': '07:49:09',\n",
       " 'brutto': '07:53:48',\n",
       " 'z5': '00:46:42',\n",
       " 'z10': '01:39:52',\n",
       " 'z15': '02:34:20',\n",
       " 'z20': '03:32:25',\n",
       " 'halbmarathon': '03:44:49',\n",
       " 'z25': '04:32:41',\n",
       " 'z30': '05:31:41',\n",
       " 'z35': '06:27:58',\n",
       " 'z38': '07:06:14',\n",
       " 'z40': '07:24:54',\n",
       " 'personen_id': 'HCH3C0OH36E1D',\n",
       " 'participant_id': 'HCH3C0OH51076'}"
      ]
     },
     "execution_count": 9,
     "metadata": {},
     "output_type": "execute_result"
    }
   ],
   "source": [
    "dict_data[34743]"
   ]
  },
  {
   "cell_type": "code",
   "execution_count": 10,
   "id": "d751af13-eea0-4bdc-b926-6996f6c8fcc5",
   "metadata": {
    "tags": []
   },
   "outputs": [
    {
     "name": "stdout",
     "output_type": "stream",
     "text": [
      "      startnummer   nachname   vorname                 verein nation sex  \\\n",
      "0               1   Kipchoge     Eliud                           KEN   M   \n",
      "1               5      Korir      Mark                           KEN   M   \n",
      "2               8      Abate      Tadu                           ETH   M   \n",
      "3              26     Belihu  Andamlak                           ETH   M   \n",
      "4              25  Kipchumba      Abel                           KEN   M   \n",
      "...           ...        ...       ...                    ...    ...  ..   \n",
      "34740       18079     Giesen     André                           GER   M   \n",
      "34741        4006       Görs       Kai  Laufen ist mein Leben    GER   M   \n",
      "34742        2785      Wildt       Uwe                           GER   M   \n",
      "34743       70469     VERAZA   RICARDO            RUN FRIENDS    MEX   M   \n",
      "34744       50193      Ahern     Carol                           IRL   W   \n",
      "\n",
      "       ak_plazierung     netto    brutto  \n",
      "0                  1  02:01:09  02:01:09  \n",
      "1                  1  02:05:58  02:05:58  \n",
      "2                  1  02:06:28  02:06:28  \n",
      "3                  2  02:06:40  02:06:40  \n",
      "4                  3  02:06:49  02:06:49  \n",
      "...              ...       ...       ...  \n",
      "34740           2108  07:42:32  07:45:57  \n",
      "34741           3511  07:45:20  07:54:30  \n",
      "34742            449  07:46:47  07:46:56  \n",
      "34743           2109  07:49:09  07:53:48  \n",
      "34744           1412  07:53:05  07:58:46  \n",
      "\n",
      "[34745 rows x 9 columns]\n"
     ]
    }
   ],
   "source": [
    "data_list = []\n",
    "\n",
    "# Récupérer les données de chaque entrée dans dict_data\n",
    "for item in dict_data:\n",
    "    data_list.append({\n",
    "        'startnummer': item.get('startnummer', ''),\n",
    "        'nachname': item.get('nachname', ''),\n",
    "        'vorname': item.get('vorname', ''),\n",
    "        'verein': item.get('verein', ''),\n",
    "        'nation': item.get('nation', ''),\n",
    "        'sex': item.get('sex', ''),\n",
    "        'ak_plazierung': item.get('ak_plazierung', ''),\n",
    "        'netto': item.get('netto', ''),\n",
    "        'brutto': item.get('brutto', '')\n",
    "    })\n",
    "\n",
    "# Créer un DataFrame à partir de la liste de dictionnaires\n",
    "df = pd.DataFrame(data_list)\n",
    "\n",
    "# Afficher le DataFrame\n",
    "print(df)"
   ]
  },
  {
   "cell_type": "code",
   "execution_count": 11,
   "id": "fa9b4f80-8bdc-4dd2-83fd-af87a30d9920",
   "metadata": {
    "tags": []
   },
   "outputs": [
    {
     "name": "stdout",
     "output_type": "stream",
     "text": [
      "<class 'pandas.core.frame.DataFrame'>\n",
      "RangeIndex: 34745 entries, 0 to 34744\n",
      "Data columns (total 9 columns):\n",
      " #   Column         Non-Null Count  Dtype \n",
      "---  ------         --------------  ----- \n",
      " 0   startnummer    34745 non-null  object\n",
      " 1   nachname       34745 non-null  object\n",
      " 2   vorname        34745 non-null  object\n",
      " 3   verein         34745 non-null  object\n",
      " 4   nation         34745 non-null  object\n",
      " 5   sex            34745 non-null  object\n",
      " 6   ak_plazierung  34745 non-null  int64 \n",
      " 7   netto          34745 non-null  object\n",
      " 8   brutto         34745 non-null  object\n",
      "dtypes: int64(1), object(8)\n",
      "memory usage: 2.4+ MB\n"
     ]
    }
   ],
   "source": [
    "df.info()"
   ]
  },
  {
   "cell_type": "code",
   "execution_count": 12,
   "id": "0dc6428b-9aed-4281-aecc-bf8573a50b7c",
   "metadata": {
    "tags": []
   },
   "outputs": [
    {
     "data": {
      "text/html": [
       "<div>\n",
       "<style scoped>\n",
       "    .dataframe tbody tr th:only-of-type {\n",
       "        vertical-align: middle;\n",
       "    }\n",
       "\n",
       "    .dataframe tbody tr th {\n",
       "        vertical-align: top;\n",
       "    }\n",
       "\n",
       "    .dataframe thead th {\n",
       "        text-align: right;\n",
       "    }\n",
       "</style>\n",
       "<table border=\"1\" class=\"dataframe\">\n",
       "  <thead>\n",
       "    <tr style=\"text-align: right;\">\n",
       "      <th></th>\n",
       "      <th>ak_plazierung</th>\n",
       "    </tr>\n",
       "  </thead>\n",
       "  <tbody>\n",
       "    <tr>\n",
       "      <th>count</th>\n",
       "      <td>34745.000000</td>\n",
       "    </tr>\n",
       "    <tr>\n",
       "      <th>mean</th>\n",
       "      <td>1264.169003</td>\n",
       "    </tr>\n",
       "    <tr>\n",
       "      <th>std</th>\n",
       "      <td>934.703130</td>\n",
       "    </tr>\n",
       "    <tr>\n",
       "      <th>min</th>\n",
       "      <td>0.000000</td>\n",
       "    </tr>\n",
       "    <tr>\n",
       "      <th>25%</th>\n",
       "      <td>493.000000</td>\n",
       "    </tr>\n",
       "    <tr>\n",
       "      <th>50%</th>\n",
       "      <td>1089.000000</td>\n",
       "    </tr>\n",
       "    <tr>\n",
       "      <th>75%</th>\n",
       "      <td>1827.000000</td>\n",
       "    </tr>\n",
       "    <tr>\n",
       "      <th>max</th>\n",
       "      <td>3826.000000</td>\n",
       "    </tr>\n",
       "  </tbody>\n",
       "</table>\n",
       "</div>"
      ],
      "text/plain": [
       "       ak_plazierung\n",
       "count   34745.000000\n",
       "mean     1264.169003\n",
       "std       934.703130\n",
       "min         0.000000\n",
       "25%       493.000000\n",
       "50%      1089.000000\n",
       "75%      1827.000000\n",
       "max      3826.000000"
      ]
     },
     "execution_count": 12,
     "metadata": {},
     "output_type": "execute_result"
    }
   ],
   "source": [
    "df.describe()"
   ]
  },
  {
   "cell_type": "code",
   "execution_count": 13,
   "id": "d1eb851e-5dfc-4411-a6f8-ac5f2c811992",
   "metadata": {
    "tags": []
   },
   "outputs": [
    {
     "data": {
      "text/html": [
       "<div>\n",
       "<style scoped>\n",
       "    .dataframe tbody tr th:only-of-type {\n",
       "        vertical-align: middle;\n",
       "    }\n",
       "\n",
       "    .dataframe tbody tr th {\n",
       "        vertical-align: top;\n",
       "    }\n",
       "\n",
       "    .dataframe thead th {\n",
       "        text-align: right;\n",
       "    }\n",
       "</style>\n",
       "<table border=\"1\" class=\"dataframe\">\n",
       "  <thead>\n",
       "    <tr style=\"text-align: right;\">\n",
       "      <th></th>\n",
       "      <th>startnummer</th>\n",
       "      <th>nachname</th>\n",
       "      <th>vorname</th>\n",
       "      <th>verein</th>\n",
       "      <th>nation</th>\n",
       "      <th>sex</th>\n",
       "      <th>ak_plazierung</th>\n",
       "      <th>netto</th>\n",
       "      <th>brutto</th>\n",
       "    </tr>\n",
       "  </thead>\n",
       "  <tbody>\n",
       "    <tr>\n",
       "      <th>0</th>\n",
       "      <td>1</td>\n",
       "      <td>Kipchoge</td>\n",
       "      <td>Eliud</td>\n",
       "      <td></td>\n",
       "      <td>KEN</td>\n",
       "      <td>M</td>\n",
       "      <td>1</td>\n",
       "      <td>02:01:09</td>\n",
       "      <td>02:01:09</td>\n",
       "    </tr>\n",
       "    <tr>\n",
       "      <th>1</th>\n",
       "      <td>5</td>\n",
       "      <td>Korir</td>\n",
       "      <td>Mark</td>\n",
       "      <td></td>\n",
       "      <td>KEN</td>\n",
       "      <td>M</td>\n",
       "      <td>1</td>\n",
       "      <td>02:05:58</td>\n",
       "      <td>02:05:58</td>\n",
       "    </tr>\n",
       "    <tr>\n",
       "      <th>2</th>\n",
       "      <td>8</td>\n",
       "      <td>Abate</td>\n",
       "      <td>Tadu</td>\n",
       "      <td></td>\n",
       "      <td>ETH</td>\n",
       "      <td>M</td>\n",
       "      <td>1</td>\n",
       "      <td>02:06:28</td>\n",
       "      <td>02:06:28</td>\n",
       "    </tr>\n",
       "    <tr>\n",
       "      <th>3</th>\n",
       "      <td>26</td>\n",
       "      <td>Belihu</td>\n",
       "      <td>Andamlak</td>\n",
       "      <td></td>\n",
       "      <td>ETH</td>\n",
       "      <td>M</td>\n",
       "      <td>2</td>\n",
       "      <td>02:06:40</td>\n",
       "      <td>02:06:40</td>\n",
       "    </tr>\n",
       "    <tr>\n",
       "      <th>4</th>\n",
       "      <td>25</td>\n",
       "      <td>Kipchumba</td>\n",
       "      <td>Abel</td>\n",
       "      <td></td>\n",
       "      <td>KEN</td>\n",
       "      <td>M</td>\n",
       "      <td>3</td>\n",
       "      <td>02:06:49</td>\n",
       "      <td>02:06:49</td>\n",
       "    </tr>\n",
       "  </tbody>\n",
       "</table>\n",
       "</div>"
      ],
      "text/plain": [
       "  startnummer   nachname   vorname verein nation sex  ak_plazierung     netto  \\\n",
       "0           1   Kipchoge     Eliud           KEN   M              1  02:01:09   \n",
       "1           5      Korir      Mark           KEN   M              1  02:05:58   \n",
       "2           8      Abate      Tadu           ETH   M              1  02:06:28   \n",
       "3          26     Belihu  Andamlak           ETH   M              2  02:06:40   \n",
       "4          25  Kipchumba      Abel           KEN   M              3  02:06:49   \n",
       "\n",
       "     brutto  \n",
       "0  02:01:09  \n",
       "1  02:05:58  \n",
       "2  02:06:28  \n",
       "3  02:06:40  \n",
       "4  02:06:49  "
      ]
     },
     "execution_count": 13,
     "metadata": {},
     "output_type": "execute_result"
    }
   ],
   "source": [
    "df.head()"
   ]
  },
  {
   "cell_type": "code",
   "execution_count": 14,
   "id": "a6097135-31cb-4458-8a45-e57ef6f2ee38",
   "metadata": {
    "tags": []
   },
   "outputs": [],
   "source": [
    "df = df.drop_duplicates()"
   ]
  },
  {
   "cell_type": "code",
   "execution_count": 15,
   "id": "8a6a63c8-2c57-4ab6-a142-8dcd8b4e4454",
   "metadata": {
    "tags": []
   },
   "outputs": [
    {
     "name": "stdout",
     "output_type": "stream",
     "text": [
      "<class 'pandas.core.frame.DataFrame'>\n",
      "RangeIndex: 34745 entries, 0 to 34744\n",
      "Data columns (total 9 columns):\n",
      " #   Column         Non-Null Count  Dtype \n",
      "---  ------         --------------  ----- \n",
      " 0   startnummer    34745 non-null  object\n",
      " 1   nachname       34745 non-null  object\n",
      " 2   vorname        34745 non-null  object\n",
      " 3   verein         34745 non-null  object\n",
      " 4   nation         34745 non-null  object\n",
      " 5   sex            34745 non-null  object\n",
      " 6   ak_plazierung  34745 non-null  int64 \n",
      " 7   netto          34745 non-null  object\n",
      " 8   brutto         34745 non-null  object\n",
      "dtypes: int64(1), object(8)\n",
      "memory usage: 2.4+ MB\n"
     ]
    }
   ],
   "source": [
    "df.info()"
   ]
  },
  {
   "cell_type": "code",
   "execution_count": 16,
   "id": "205a6ebe-3bec-4d6b-8f1a-393101150229",
   "metadata": {
    "tags": []
   },
   "outputs": [],
   "source": [
    "df.to_csv('marathon_Berlin_2022.csv', index=False)"
   ]
  },
  {
   "cell_type": "code",
   "execution_count": null,
   "id": "3d471f56-79ae-42ed-8b44-4ca1cf5c9363",
   "metadata": {},
   "outputs": [],
   "source": []
  }
 ],
 "metadata": {
  "kernelspec": {
   "display_name": "Python 3 (ipykernel)",
   "language": "python",
   "name": "python3"
  },
  "language_info": {
   "codemirror_mode": {
    "name": "ipython",
    "version": 3
   },
   "file_extension": ".py",
   "mimetype": "text/x-python",
   "name": "python",
   "nbconvert_exporter": "python",
   "pygments_lexer": "ipython3",
   "version": "3.11.5"
  }
 },
 "nbformat": 4,
 "nbformat_minor": 5
}
