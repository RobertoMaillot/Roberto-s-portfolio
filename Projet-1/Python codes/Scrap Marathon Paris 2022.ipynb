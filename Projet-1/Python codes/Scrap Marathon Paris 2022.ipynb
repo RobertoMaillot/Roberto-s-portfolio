{
 "cells": [
  {
   "cell_type": "code",
   "execution_count": 1,
   "id": "ae69501d-7a05-42a4-af1c-b6682926a1f8",
   "metadata": {},
   "outputs": [],
   "source": [
    "# Installation des packages et librairies dont on a besoin"
   ]
  },
  {
   "cell_type": "code",
   "execution_count": 2,
   "id": "4efecd73-730a-4d90-b9ce-dd0ede8311f4",
   "metadata": {
    "tags": []
   },
   "outputs": [],
   "source": [
    "import requests\n",
    "import json\n",
    "import pandas as pd"
   ]
  },
  {
   "cell_type": "code",
   "execution_count": 3,
   "id": "ae3efc86-71f8-46c7-9b81-adff61afc559",
   "metadata": {
    "tags": []
   },
   "outputs": [],
   "source": [
    "stock_data = []\n",
    "\n",
    "for i in range(0, 34400,100):    \n",
    "    url = requests.get(f\"https://resultscui.active.com/api/results/events/SchneiderElectricMarathondeParis2022/participants?groupId=947610&routeId=170632&offset={i}&limit=100\")\n",
    "    text = url.text  # type = str\n",
    "    stock_data.append(text)"
   ]
  },
  {
   "cell_type": "code",
   "execution_count": 4,
   "id": "6fcd2b03-aa51-401a-92a5-6b414abaa30f",
   "metadata": {},
   "outputs": [],
   "source": [
    "#https://resultscui.active.com/api/results/events/SchneiderElectricMarathondeParis2022/participants?groupId=947610&routeId=170632&offset={i}&limit=100\n",
    "#https://resultscui.active.com/api/results/events/SchneiderElectricMarathondeParis2022/participants?groupId=947610&routeId=170632&offset={i}&limit=10"
   ]
  },
  {
   "cell_type": "code",
   "execution_count": 5,
   "id": "54ce101d-d017-4f1c-bb3d-87dda90a8436",
   "metadata": {
    "tags": []
   },
   "outputs": [
    {
     "data": {
      "text/plain": [
       "list"
      ]
     },
     "execution_count": 5,
     "metadata": {},
     "output_type": "execute_result"
    }
   ],
   "source": [
    "type(stock_data)"
   ]
  },
  {
   "cell_type": "code",
   "execution_count": 6,
   "id": "d751af13-eea0-4bdc-b926-6996f6c8fcc5",
   "metadata": {
    "tags": []
   },
   "outputs": [
    {
     "name": "stdout",
     "output_type": "stream",
     "text": [
      "         id bib externalId            finishTime  averageSpeed displayPace  \\\n",
      "0  42063266   6  971331285  2022-04-03T00:05:07Z         20.23        2:58   \n",
      "1  42063273   2  971302386  2022-04-03T00:05:10Z         20.23        2:58   \n",
      "2  42063281  16  971358984  2022-04-03T00:05:22Z         20.19        2:58   \n",
      "3  42063286   5  971314087  2022-04-03T00:06:03Z         20.08        2:59   \n",
      "4  42063291   9  971331985  2022-04-03T00:06:27Z         20.02        3:00   \n",
      "\n",
      "   disqualified firstName lastName gender  age  \\\n",
      "0         False      Deso  GELMISA      M   24   \n",
      "1         False     Seifu     TURA      M   24   \n",
      "2         False    Morhad  AMDOUNI      M   33   \n",
      "3         False   Abeyneh     DEGU      M   23   \n",
      "4         False     Olika   ADUGNA      M   22   \n",
      "\n",
      "                                   participantNumber  \n",
      "0  147eaeb130d7639a8e2c18ba6724e0ddfb8271ec4c0187...  \n",
      "1  83329fb5dedd8e17a76dc84c975b014d1fbe50f52247cf...  \n",
      "2  8300671259741cf4d014df535285127fdf1b6ba1a28147...  \n",
      "3  d277fd7e08b4466ce71620a62bf5a41af6c2d6588fa9ee...  \n",
      "4  af068d9aee7fa7f346f6975372e7a7ad6f24efcfab24d6...  \n"
     ]
    }
   ],
   "source": [
    "data_list = []\n",
    "\n",
    "# Parcourir chaque élément de stock_data\n",
    "for entry in stock_data:\n",
    "    # Charger l'élément en tant que dictionnaire\n",
    "    entry_dict = json.loads(entry)\n",
    "    \n",
    "    # Parcourir chaque élément de 'items' dans l'entrée\n",
    "    for item in entry_dict['items']:\n",
    "        # Ajouter les données nécessaires à la liste\n",
    "        data_list.append({\n",
    "            'id': item['id'],\n",
    "            'bib': item['bib'],\n",
    "            'externalId': item['externalId'],\n",
    "            'finishTime': item['finalResult']['finishTime'],\n",
    "            'averageSpeed':item['finalResult']['averageSpeed'],\n",
    "            'displayPace':item['finalResult']['displayPace'],\n",
    "            'disqualified':item['finalResult']['disqualified'],\n",
    "            'firstName': item['person']['firstName'],\n",
    "            'lastName': item['person']['lastName'],\n",
    "            'gender': item['person']['gender'],\n",
    "            'age': item['person']['age'],\n",
    "            'participantNumber': item['participantNumber']\n",
    "        })\n",
    "\n",
    "# Créer un DataFrame à partir de la liste de dictionnaires\n",
    "df = pd.DataFrame(data_list)\n",
    "\n",
    "# Afficher les premières lignes du DataFrame\n",
    "print(df.head())"
   ]
  },
  {
   "cell_type": "code",
   "execution_count": 7,
   "id": "fa9b4f80-8bdc-4dd2-83fd-af87a30d9920",
   "metadata": {
    "tags": []
   },
   "outputs": [
    {
     "name": "stdout",
     "output_type": "stream",
     "text": [
      "<class 'pandas.core.frame.DataFrame'>\n",
      "RangeIndex: 34365 entries, 0 to 34364\n",
      "Data columns (total 12 columns):\n",
      " #   Column             Non-Null Count  Dtype  \n",
      "---  ------             --------------  -----  \n",
      " 0   id                 34365 non-null  int64  \n",
      " 1   bib                34365 non-null  object \n",
      " 2   externalId         34365 non-null  object \n",
      " 3   finishTime         34365 non-null  object \n",
      " 4   averageSpeed       34365 non-null  float64\n",
      " 5   displayPace        34365 non-null  object \n",
      " 6   disqualified       34365 non-null  bool   \n",
      " 7   firstName          34365 non-null  object \n",
      " 8   lastName           34365 non-null  object \n",
      " 9   gender             34365 non-null  object \n",
      " 10  age                34365 non-null  int64  \n",
      " 11  participantNumber  34365 non-null  object \n",
      "dtypes: bool(1), float64(1), int64(2), object(8)\n",
      "memory usage: 2.9+ MB\n"
     ]
    }
   ],
   "source": [
    "df.info()"
   ]
  },
  {
   "cell_type": "code",
   "execution_count": 8,
   "id": "0dc6428b-9aed-4281-aecc-bf8573a50b7c",
   "metadata": {
    "tags": []
   },
   "outputs": [
    {
     "data": {
      "text/html": [
       "<div>\n",
       "<style scoped>\n",
       "    .dataframe tbody tr th:only-of-type {\n",
       "        vertical-align: middle;\n",
       "    }\n",
       "\n",
       "    .dataframe tbody tr th {\n",
       "        vertical-align: top;\n",
       "    }\n",
       "\n",
       "    .dataframe thead th {\n",
       "        text-align: right;\n",
       "    }\n",
       "</style>\n",
       "<table border=\"1\" class=\"dataframe\">\n",
       "  <thead>\n",
       "    <tr style=\"text-align: right;\">\n",
       "      <th></th>\n",
       "      <th>id</th>\n",
       "      <th>averageSpeed</th>\n",
       "      <th>age</th>\n",
       "    </tr>\n",
       "  </thead>\n",
       "  <tbody>\n",
       "    <tr>\n",
       "      <th>count</th>\n",
       "      <td>3.436500e+04</td>\n",
       "      <td>34365.000000</td>\n",
       "      <td>34365.000000</td>\n",
       "    </tr>\n",
       "    <tr>\n",
       "      <th>mean</th>\n",
       "      <td>4.207760e+07</td>\n",
       "      <td>10.606219</td>\n",
       "      <td>39.216732</td>\n",
       "    </tr>\n",
       "    <tr>\n",
       "      <th>std</th>\n",
       "      <td>9.920465e+03</td>\n",
       "      <td>1.819332</td>\n",
       "      <td>10.935938</td>\n",
       "    </tr>\n",
       "    <tr>\n",
       "      <th>min</th>\n",
       "      <td>4.206041e+07</td>\n",
       "      <td>5.100000</td>\n",
       "      <td>9.000000</td>\n",
       "    </tr>\n",
       "    <tr>\n",
       "      <th>25%</th>\n",
       "      <td>4.206900e+07</td>\n",
       "      <td>9.330000</td>\n",
       "      <td>30.000000</td>\n",
       "    </tr>\n",
       "    <tr>\n",
       "      <th>50%</th>\n",
       "      <td>4.207760e+07</td>\n",
       "      <td>10.510000</td>\n",
       "      <td>39.000000</td>\n",
       "    </tr>\n",
       "    <tr>\n",
       "      <th>75%</th>\n",
       "      <td>4.208619e+07</td>\n",
       "      <td>11.710000</td>\n",
       "      <td>48.000000</td>\n",
       "    </tr>\n",
       "    <tr>\n",
       "      <th>max</th>\n",
       "      <td>4.209478e+07</td>\n",
       "      <td>20.230000</td>\n",
       "      <td>89.000000</td>\n",
       "    </tr>\n",
       "  </tbody>\n",
       "</table>\n",
       "</div>"
      ],
      "text/plain": [
       "                 id  averageSpeed           age\n",
       "count  3.436500e+04  34365.000000  34365.000000\n",
       "mean   4.207760e+07     10.606219     39.216732\n",
       "std    9.920465e+03      1.819332     10.935938\n",
       "min    4.206041e+07      5.100000      9.000000\n",
       "25%    4.206900e+07      9.330000     30.000000\n",
       "50%    4.207760e+07     10.510000     39.000000\n",
       "75%    4.208619e+07     11.710000     48.000000\n",
       "max    4.209478e+07     20.230000     89.000000"
      ]
     },
     "execution_count": 8,
     "metadata": {},
     "output_type": "execute_result"
    }
   ],
   "source": [
    "df.describe()"
   ]
  },
  {
   "cell_type": "code",
   "execution_count": 9,
   "id": "a6097135-31cb-4458-8a45-e57ef6f2ee38",
   "metadata": {
    "tags": []
   },
   "outputs": [],
   "source": [
    "df = df.drop_duplicates()"
   ]
  },
  {
   "cell_type": "code",
   "execution_count": 12,
   "id": "205a6ebe-3bec-4d6b-8f1a-393101150229",
   "metadata": {
    "tags": []
   },
   "outputs": [],
   "source": [
    "df.to_csv('marathon_paris_2022.csv', index=False)"
   ]
  },
  {
   "cell_type": "code",
   "execution_count": 11,
   "id": "418f09f0-a6ca-43bb-a20c-8ddcec58c9d3",
   "metadata": {
    "tags": []
   },
   "outputs": [
    {
     "data": {
      "text/html": [
       "<div>\n",
       "<style scoped>\n",
       "    .dataframe tbody tr th:only-of-type {\n",
       "        vertical-align: middle;\n",
       "    }\n",
       "\n",
       "    .dataframe tbody tr th {\n",
       "        vertical-align: top;\n",
       "    }\n",
       "\n",
       "    .dataframe thead th {\n",
       "        text-align: right;\n",
       "    }\n",
       "</style>\n",
       "<table border=\"1\" class=\"dataframe\">\n",
       "  <thead>\n",
       "    <tr style=\"text-align: right;\">\n",
       "      <th></th>\n",
       "      <th>0</th>\n",
       "    </tr>\n",
       "  </thead>\n",
       "  <tbody>\n",
       "    <tr>\n",
       "      <th>0</th>\n",
       "      <td>{\"items\":[{\"id\":42063266,\"bib\":\"6\",\"externalId...</td>\n",
       "    </tr>\n",
       "    <tr>\n",
       "      <th>1</th>\n",
       "      <td>{\"items\":[{\"id\":42063863,\"bib\":\"646\",\"external...</td>\n",
       "    </tr>\n",
       "    <tr>\n",
       "      <th>2</th>\n",
       "      <td>{\"items\":[{\"id\":42064542,\"bib\":\"745\",\"external...</td>\n",
       "    </tr>\n",
       "    <tr>\n",
       "      <th>3</th>\n",
       "      <td>{\"items\":[{\"id\":42066246,\"bib\":\"6685\",\"externa...</td>\n",
       "    </tr>\n",
       "    <tr>\n",
       "      <th>4</th>\n",
       "      <td>{\"items\":[{\"id\":42064428,\"bib\":\"4631\",\"externa...</td>\n",
       "    </tr>\n",
       "    <tr>\n",
       "      <th>...</th>\n",
       "      <td>...</td>\n",
       "    </tr>\n",
       "    <tr>\n",
       "      <th>339</th>\n",
       "      <td>{\"items\":[{\"id\":42093900,\"bib\":\"63672\",\"extern...</td>\n",
       "    </tr>\n",
       "    <tr>\n",
       "      <th>340</th>\n",
       "      <td>{\"items\":[{\"id\":42094577,\"bib\":\"69901\",\"extern...</td>\n",
       "    </tr>\n",
       "    <tr>\n",
       "      <th>341</th>\n",
       "      <td>{\"items\":[{\"id\":42093723,\"bib\":\"74554\",\"extern...</td>\n",
       "    </tr>\n",
       "    <tr>\n",
       "      <th>342</th>\n",
       "      <td>{\"items\":[{\"id\":42093934,\"bib\":\"75669\",\"extern...</td>\n",
       "    </tr>\n",
       "    <tr>\n",
       "      <th>343</th>\n",
       "      <td>{\"items\":[{\"id\":42094583,\"bib\":\"73821\",\"extern...</td>\n",
       "    </tr>\n",
       "  </tbody>\n",
       "</table>\n",
       "<p>344 rows × 1 columns</p>\n",
       "</div>"
      ],
      "text/plain": [
       "                                                     0\n",
       "0    {\"items\":[{\"id\":42063266,\"bib\":\"6\",\"externalId...\n",
       "1    {\"items\":[{\"id\":42063863,\"bib\":\"646\",\"external...\n",
       "2    {\"items\":[{\"id\":42064542,\"bib\":\"745\",\"external...\n",
       "3    {\"items\":[{\"id\":42066246,\"bib\":\"6685\",\"externa...\n",
       "4    {\"items\":[{\"id\":42064428,\"bib\":\"4631\",\"externa...\n",
       "..                                                 ...\n",
       "339  {\"items\":[{\"id\":42093900,\"bib\":\"63672\",\"extern...\n",
       "340  {\"items\":[{\"id\":42094577,\"bib\":\"69901\",\"extern...\n",
       "341  {\"items\":[{\"id\":42093723,\"bib\":\"74554\",\"extern...\n",
       "342  {\"items\":[{\"id\":42093934,\"bib\":\"75669\",\"extern...\n",
       "343  {\"items\":[{\"id\":42094583,\"bib\":\"73821\",\"extern...\n",
       "\n",
       "[344 rows x 1 columns]"
      ]
     },
     "execution_count": 11,
     "metadata": {},
     "output_type": "execute_result"
    }
   ],
   "source": [
    "pd.DataFrame(stock_data)"
   ]
  },
  {
   "cell_type": "code",
   "execution_count": null,
   "id": "d57c3417-150a-4389-8e01-d251bd93c005",
   "metadata": {},
   "outputs": [],
   "source": []
  }
 ],
 "metadata": {
  "kernelspec": {
   "display_name": "Python 3 (ipykernel)",
   "language": "python",
   "name": "python3"
  },
  "language_info": {
   "codemirror_mode": {
    "name": "ipython",
    "version": 3
   },
   "file_extension": ".py",
   "mimetype": "text/x-python",
   "name": "python",
   "nbconvert_exporter": "python",
   "pygments_lexer": "ipython3",
   "version": "3.11.5"
  }
 },
 "nbformat": 4,
 "nbformat_minor": 5
}
