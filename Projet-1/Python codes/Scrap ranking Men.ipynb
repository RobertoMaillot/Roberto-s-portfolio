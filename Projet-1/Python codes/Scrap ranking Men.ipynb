{
 "cells": [
  {
   "cell_type": "code",
   "execution_count": 4,
   "id": "e6d669af-6f06-408b-abe0-51969cf057b9",
   "metadata": {
    "tags": []
   },
   "outputs": [
    {
     "name": "stdout",
     "output_type": "stream",
     "text": [
      "Request:1; Frequency: 0.3062152220133075 requests/s\n"
     ]
    },
    {
     "ename": "AttributeError",
     "evalue": "'NoneType' object has no attribute 'find_all'",
     "output_type": "error",
     "traceback": [
      "\u001b[0;31m---------------------------------------------------------------------------\u001b[0m",
      "\u001b[0;31mAttributeError\u001b[0m                            Traceback (most recent call last)",
      "Cell \u001b[0;32mIn[4], line 29\u001b[0m\n\u001b[1;32m     27\u001b[0m html_soup \u001b[38;5;241m=\u001b[39m BeautifulSoup(response\u001b[38;5;241m.\u001b[39mtext, \u001b[38;5;124m'\u001b[39m\u001b[38;5;124mhtml.parser\u001b[39m\u001b[38;5;124m'\u001b[39m)\n\u001b[1;32m     28\u001b[0m results_container \u001b[38;5;241m=\u001b[39m html_soup\u001b[38;5;241m.\u001b[39mfind(\u001b[38;5;124m'\u001b[39m\u001b[38;5;124mtable\u001b[39m\u001b[38;5;124m'\u001b[39m, class_\u001b[38;5;241m=\u001b[39m\u001b[38;5;124m'\u001b[39m\u001b[38;5;124mlist-table\u001b[39m\u001b[38;5;124m'\u001b[39m)\n\u001b[0;32m---> 29\u001b[0m results_container \u001b[38;5;241m=\u001b[39m results_container\u001b[38;5;241m.\u001b[39mfind_all(\u001b[38;5;124m'\u001b[39m\u001b[38;5;124mtr\u001b[39m\u001b[38;5;124m'\u001b[39m)\n\u001b[1;32m     31\u001b[0m \u001b[38;5;28;01mfor\u001b[39;00m r \u001b[38;5;129;01min\u001b[39;00m results_container:\n\u001b[1;32m     32\u001b[0m     participant_data \u001b[38;5;241m=\u001b[39m [j\u001b[38;5;241m.\u001b[39mtext \u001b[38;5;28;01mfor\u001b[39;00m j \u001b[38;5;129;01min\u001b[39;00m r\u001b[38;5;241m.\u001b[39mfind_all(\u001b[38;5;124m'\u001b[39m\u001b[38;5;124mtd\u001b[39m\u001b[38;5;124m'\u001b[39m)]\n",
      "\u001b[0;31mAttributeError\u001b[0m: 'NoneType' object has no attribute 'find_all'"
     ]
    }
   ],
   "source": [
    "import pandas as pd\n",
    "from requests import get\n",
    "from bs4 import BeautifulSoup\n",
    "from time import sleep\n",
    "from random import randint\n",
    "from time import time\n",
    "from warnings import warn\n",
    "\n",
    "# List to store dictionaries\n",
    "results_list = []\n",
    "\n",
    "start_time = time()\n",
    "requests = 0\n",
    "\n",
    "for p in range(1, 2):\n",
    "    url = f'https://chicago-history.r.mikatiming.com/2021/?page=1&event=MAR_9TGG9638119&lang=EN_CAP&num_results=1000&pid=search&pidp=start&search%5Bage_class%5D=%25&search%5Bsex%5D=%25&search%5Bnation%5D=%25&search_sort=place_nosex'\n",
    "    response = get(url)\n",
    "    sleep(randint(2, 5))\n",
    "    \n",
    "    requests += 1\n",
    "    elapsed_time = time() - start_time\n",
    "    print('Request:{}; Frequency: {} requests/s'.format(requests, requests / elapsed_time))\n",
    "\n",
    "    if response.status_code != 200:\n",
    "        warn('Request: {}; Status code: {}'.format(requests, response.status_code))\n",
    "    \n",
    "    html_soup = BeautifulSoup(response.text, 'html.parser')\n",
    "    results_container = html_soup.find('table', class_='list-group list-group-multicolumn')\n",
    "    results_container = results_container.find_all('tr')\n",
    "\n",
    "    for r in results_container:\n",
    "        participant_data = [j.text for j in r.find_all('td')]\n",
    "\n",
    "        if participant_data:\n",
    "            result_dict = {\n",
    "                'Year': participant_data[0],\n",
    "                'Place_Overall': participant_data[2],\n",
    "                'Place_Gender': participant_data[3],\n",
    "                'Place_Division': participant_data[4],\n",
    "                'Name': participant_data[5],\n",
    "                'City_State': participant_data[6],\n",
    "                'BIB': participant_data[7],\n",
    "                'Division': participant_data[8],\n",
    "                'Age': participant_data[9],\n",
    "                'Half': participant_data[10],\n",
    "                'Finish': participant_data[11]\n",
    "            }\n",
    "            results_list.append(result_dict)\n",
    "\n",
    "# Create DataFrame from the list of dictionaries\n",
    "marathon_results = pd.DataFrame(results_list)"
   ]
  },
  {
   "cell_type": "code",
   "execution_count": null,
   "id": "0909b87a-226f-4f00-8ea9-d361bfce241c",
   "metadata": {},
   "outputs": [],
   "source": [
    "#marathon_results.to_csv('Marathon_data.csv',index=False,encoding='utf-8')\n",
    "#print(\"Running Time: \",time()-start_time)"
   ]
  },
  {
   "cell_type": "code",
   "execution_count": 5,
   "id": "6060d334-1f0e-4011-8705-c6e953380bf0",
   "metadata": {
    "tags": []
   },
   "outputs": [
    {
     "name": "stdout",
     "output_type": "stream",
     "text": [
      "Table not found\n"
     ]
    }
   ],
   "source": [
    "results_container = html_soup.find('table', class_='list-table')\n",
    "if results_container:\n",
    "    results_container = results_container.find_all('tr')\n",
    "    # Rest of the code...\n",
    "else:\n",
    "    print(\"Table not found\")"
   ]
  },
  {
   "cell_type": "code",
   "execution_count": 7,
   "id": "b777e090-3968-43e1-b719-5041afa925dd",
   "metadata": {
    "tags": []
   },
   "outputs": [
    {
     "data": {
      "text/plain": [
       "[]"
      ]
     },
     "execution_count": 7,
     "metadata": {},
     "output_type": "execute_result"
    }
   ],
   "source": [
    "results_list"
   ]
  },
  {
   "cell_type": "code",
   "execution_count": null,
   "id": "efd08867-b5fa-4c93-b26c-b87cb939a839",
   "metadata": {},
   "outputs": [],
   "source": []
  }
 ],
 "metadata": {
  "kernelspec": {
   "display_name": "Python 3 (ipykernel)",
   "language": "python",
   "name": "python3"
  },
  "language_info": {
   "codemirror_mode": {
    "name": "ipython",
    "version": 3
   },
   "file_extension": ".py",
   "mimetype": "text/x-python",
   "name": "python",
   "nbconvert_exporter": "python",
   "pygments_lexer": "ipython3",
   "version": "3.11.5"
  }
 },
 "nbformat": 4,
 "nbformat_minor": 5
}
